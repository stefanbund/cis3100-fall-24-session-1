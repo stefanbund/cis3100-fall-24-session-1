{
  "nbformat": 4,
  "nbformat_minor": 0,
  "metadata": {
    "colab": {
      "provenance": []
    },
    "kernelspec": {
      "name": "python3",
      "display_name": "Python 3"
    },
    "language_info": {
      "name": "python"
    }
  },
  "cells": [
    {
      "cell_type": "code",
      "execution_count": null,
      "metadata": {
        "id": "2yY2WMJ9v8F2"
      },
      "outputs": [],
      "source": []
    },
    {
      "cell_type": "code",
      "source": [
        "FED_KEY = 'b0daf34f3955d27430ba6fb4d6eb0845'"
      ],
      "metadata": {
        "id": "OZhQQUf9wAN4"
      },
      "execution_count": 2,
      "outputs": []
    },
    {
      "cell_type": "code",
      "source": [
        "# prompt: using the above api key, use federal reserve data (FRED) to get bitcoin and CPI announcement data, and construct a granger causality analysis between these two data sets\n",
        "\n",
        "!pip install fredapi\n",
        "\n",
        "import pandas as pd\n",
        "from fredapi import Fred\n",
        "from statsmodels.tsa.stattools import grangercausalitytests\n",
        "\n",
        "# Your FRED API key\n",
        "FED_KEY = 'b0daf34f3955d27430ba6fb4d6eb0845'\n",
        "\n",
        "# Initialize Fred API\n",
        "fred = Fred(api_key=FED_KEY)\n",
        "\n",
        "# Get Bitcoin data (Example: Bitcoin Price Index)\n",
        "bitcoin_data = fred.get_series('CBBTCUSD')\n",
        "\n",
        "# Get CPI data (Example: Consumer Price Index for All Urban Consumers: All Items)\n",
        "cpi_data = fred.get_series('CPIAUCSL')\n",
        "\n",
        "# Create a DataFrame with both datasets\n",
        "data = pd.DataFrame({'bitcoin': bitcoin_data, 'cpi': cpi_data})\n",
        "\n",
        "# Ensure that both datasets have the same timeframe\n",
        "data = data.dropna()\n",
        "\n",
        "\n",
        "# Perform Granger causality test\n",
        "maxlag = 12  # Maximum lag to consider for the test\n",
        "\n",
        "test_result = grangercausalitytests(data[['bitcoin', 'cpi']], maxlag=maxlag, verbose=True)\n",
        "\n",
        "# Analyze the results\n",
        "# The p-value for each lag indicates the probability of obtaining the observed results\n",
        "# if the null hypothesis is true (i.e., X does not Granger-cause Y).\n",
        "# A low p-value suggests that X may Granger-cause Y."
      ],
      "metadata": {
        "colab": {
          "base_uri": "https://localhost:8080/"
        },
        "id": "ylEsWED8zDnu",
        "outputId": "85caef74-526e-42e3-aa9b-1061fd01e2dd"
      },
      "execution_count": 4,
      "outputs": [
        {
          "output_type": "stream",
          "name": "stdout",
          "text": [
            "Requirement already satisfied: fredapi in /usr/local/lib/python3.10/dist-packages (0.5.2)\n",
            "Requirement already satisfied: pandas in /usr/local/lib/python3.10/dist-packages (from fredapi) (2.2.2)\n",
            "Requirement already satisfied: numpy>=1.22.4 in /usr/local/lib/python3.10/dist-packages (from pandas->fredapi) (1.26.4)\n",
            "Requirement already satisfied: python-dateutil>=2.8.2 in /usr/local/lib/python3.10/dist-packages (from pandas->fredapi) (2.8.2)\n",
            "Requirement already satisfied: pytz>=2020.1 in /usr/local/lib/python3.10/dist-packages (from pandas->fredapi) (2024.2)\n",
            "Requirement already satisfied: tzdata>=2022.7 in /usr/local/lib/python3.10/dist-packages (from pandas->fredapi) (2024.2)\n",
            "Requirement already satisfied: six>=1.5 in /usr/local/lib/python3.10/dist-packages (from python-dateutil>=2.8.2->pandas->fredapi) (1.16.0)\n",
            "\n",
            "Granger Causality\n",
            "number of lags (no zero) 1\n",
            "ssr based F test:         F=2.8680  , p=0.0931  , df_denom=114, df_num=1\n",
            "ssr based chi2 test:   chi2=2.9435  , p=0.0862  , df=1\n",
            "likelihood ratio test: chi2=2.9071  , p=0.0882  , df=1\n",
            "parameter F test:         F=2.8680  , p=0.0931  , df_denom=114, df_num=1\n",
            "\n",
            "Granger Causality\n",
            "number of lags (no zero) 2\n",
            "ssr based F test:         F=2.1259  , p=0.1242  , df_denom=111, df_num=2\n",
            "ssr based chi2 test:   chi2=4.4432  , p=0.1084  , df=2\n",
            "likelihood ratio test: chi2=4.3602  , p=0.1130  , df=2\n",
            "parameter F test:         F=2.1259  , p=0.1242  , df_denom=111, df_num=2\n",
            "\n",
            "Granger Causality\n",
            "number of lags (no zero) 3\n",
            "ssr based F test:         F=1.6012  , p=0.1934  , df_denom=108, df_num=3\n",
            "ssr based chi2 test:   chi2=5.1149  , p=0.1636  , df=3\n",
            "likelihood ratio test: chi2=5.0044  , p=0.1715  , df=3\n",
            "parameter F test:         F=1.6012  , p=0.1934  , df_denom=108, df_num=3\n",
            "\n",
            "Granger Causality\n",
            "number of lags (no zero) 4\n",
            "ssr based F test:         F=1.0836  , p=0.3685  , df_denom=105, df_num=4\n",
            "ssr based chi2 test:   chi2=4.7058  , p=0.3188  , df=4\n",
            "likelihood ratio test: chi2=4.6113  , p=0.3296  , df=4\n",
            "parameter F test:         F=1.0836  , p=0.3685  , df_denom=105, df_num=4\n",
            "\n",
            "Granger Causality\n",
            "number of lags (no zero) 5\n",
            "ssr based F test:         F=0.9923  , p=0.4263  , df_denom=102, df_num=5\n",
            "ssr based chi2 test:   chi2=5.4964  , p=0.3583  , df=5\n",
            "likelihood ratio test: chi2=5.3669  , p=0.3728  , df=5\n",
            "parameter F test:         F=0.9923  , p=0.4263  , df_denom=102, df_num=5\n",
            "\n",
            "Granger Causality\n",
            "number of lags (no zero) 6\n",
            "ssr based F test:         F=0.8213  , p=0.5560  , df_denom=99, df_num=6\n",
            "ssr based chi2 test:   chi2=5.5750  , p=0.4724  , df=6\n",
            "likelihood ratio test: chi2=5.4407  , p=0.4887  , df=6\n",
            "parameter F test:         F=0.8213  , p=0.5560  , df_denom=99, df_num=6\n",
            "\n",
            "Granger Causality\n",
            "number of lags (no zero) 7\n",
            "ssr based F test:         F=0.8259  , p=0.5683  , df_denom=96, df_num=7\n",
            "ssr based chi2 test:   chi2=6.6842  , p=0.4625  , df=7\n",
            "likelihood ratio test: chi2=6.4907  , p=0.4838  , df=7\n",
            "parameter F test:         F=0.8259  , p=0.5683  , df_denom=96, df_num=7\n",
            "\n",
            "Granger Causality\n",
            "number of lags (no zero) 8\n",
            "ssr based F test:         F=0.8623  , p=0.5512  , df_denom=93, df_num=8\n",
            "ssr based chi2 test:   chi2=8.1594  , p=0.4181  , df=8\n",
            "likelihood ratio test: chi2=7.8709  , p=0.4462  , df=8\n",
            "parameter F test:         F=0.8623  , p=0.5512  , df_denom=93, df_num=8\n",
            "\n",
            "Granger Causality\n",
            "number of lags (no zero) 9\n",
            "ssr based F test:         F=1.0290  , p=0.4234  , df_denom=90, df_num=9\n",
            "ssr based chi2 test:   chi2=11.2164 , p=0.2612  , df=9\n",
            "likelihood ratio test: chi2=10.6761 , p=0.2986  , df=9\n",
            "parameter F test:         F=1.0290  , p=0.4234  , df_denom=90, df_num=9\n",
            "\n",
            "Granger Causality\n",
            "number of lags (no zero) 10\n",
            "ssr based F test:         F=0.7075  , p=0.7151  , df_denom=87, df_num=10\n",
            "ssr based chi2 test:   chi2=8.7830  , p=0.5528  , df=10\n",
            "likelihood ratio test: chi2=8.4442  , p=0.5855  , df=10\n",
            "parameter F test:         F=0.7075  , p=0.7151  , df_denom=87, df_num=10\n",
            "\n",
            "Granger Causality\n",
            "number of lags (no zero) 11\n",
            "ssr based F test:         F=0.9081  , p=0.5364  , df_denom=84, df_num=11\n",
            "ssr based chi2 test:   chi2=12.7246 , p=0.3117  , df=11\n",
            "likelihood ratio test: chi2=12.0231 , p=0.3619  , df=11\n",
            "parameter F test:         F=0.9081  , p=0.5364  , df_denom=84, df_num=11\n",
            "\n",
            "Granger Causality\n",
            "number of lags (no zero) 12\n",
            "ssr based F test:         F=1.5577  , p=0.1211  , df_denom=81, df_num=12\n",
            "ssr based chi2 test:   chi2=24.4623 , p=0.0176  , df=12\n",
            "likelihood ratio test: chi2=22.0104 , p=0.0374  , df=12\n",
            "parameter F test:         F=1.5577  , p=0.1211  , df_denom=81, df_num=12\n"
          ]
        },
        {
          "output_type": "stream",
          "name": "stderr",
          "text": [
            "/usr/local/lib/python3.10/dist-packages/statsmodels/tsa/stattools.py:1556: FutureWarning: verbose is deprecated since functions should not print results\n",
            "  warnings.warn(\n"
          ]
        }
      ]
    },
    {
      "cell_type": "markdown",
      "source": [
        "# prompt: help me interpret the above results in a readable paragraph, suitable for a research paper\n",
        "\n",
        "The Granger causality test results, displayed above, assess the potential causal relationship between Bitcoin prices\n",
        "and the Consumer Price Index (CPI).  The test examines various lags, up to 12 months, to determine if past values of\n",
        "one variable significantly predict future values of the other.  Crucially, the p-values associated with each lag provide\n",
        "an indicator of statistical significance. A low p-value suggests evidence against the null hypothesis, implying that\n",
        "changes in one variable may indeed Granger-cause the other.  By analyzing these p-values across different lags, we can gain insight into the nature and strength of the potential causal link between Bitcoin and inflation, as represented by the CPI.  Further investigation of these results is necessary to draw robust conclusions regarding any causal relationship.\n",
        "\n",
        "\n",
        "\n",
        "**Note:**  This interpretation assumes the code is correctly configured and the datasets are appropriately processed.  It is essential to consider the context and limitations of the data and the test when drawing conclusions."
      ],
      "metadata": {
        "id": "D7vJW-AG1VRo"
      }
    },
    {
      "source": [
        "import pandas as pd\n",
        "import yfinance as yf\n",
        "from statsmodels.tsa.stattools import grangercausalitytests\n",
        "from fredapi import Fred\n",
        "\n",
        "# Your FRED API key (if not already defined)\n",
        "FED_KEY = 'b0daf34f3955d27430ba6fb4d6eb0845'\n",
        "\n",
        "# Initialize Fred API (if not already initialized)\n",
        "fred = Fred(api_key=FED_KEY)\n",
        "\n",
        "# Get CPI data (Example: Consumer Price Index for All Urban Consumers: All Items)\n",
        "cpi_data = fred.get_series('CPIAUCSL')\n",
        "\n",
        "# Get AAPL stock data\n",
        "aapl_data = yf.download(\"AAPL\", start=\"2023-01-01\", end=\"2023-10-26\")\n",
        "\n",
        "\n",
        "# Create a DataFrame with both datasets\n",
        "data = pd.DataFrame({'aapl': aapl_data['Adj Close'], 'cpi': cpi_data})\n",
        "\n",
        "# Ensure that both datasets have the same timeframe\n",
        "data = data.dropna()\n",
        "\n",
        "# Perform Granger causality test\n",
        "maxlag = 12  # Maximum lag to consider for the test\n",
        "\n",
        "test_result = grangercausalitytests(data[['aapl', 'cpi']], maxlag=maxlag, verbose=True)"
      ],
      "cell_type": "code",
      "metadata": {
        "colab": {
          "base_uri": "https://localhost:8080/",
          "height": 373
        },
        "id": "pAtcOe8E3er-",
        "outputId": "a457ce4c-0f30-42f2-9cf0-de257284deea"
      },
      "execution_count": 6,
      "outputs": [
        {
          "output_type": "stream",
          "name": "stderr",
          "text": [
            "\r[*********************100%***********************]  1 of 1 completed\n"
          ]
        },
        {
          "output_type": "error",
          "ename": "ValueError",
          "evalue": "Data must be 1-dimensional, got ndarray of shape (205, 1) instead",
          "traceback": [
            "\u001b[0;31m---------------------------------------------------------------------------\u001b[0m",
            "\u001b[0;31mValueError\u001b[0m                                Traceback (most recent call last)",
            "\u001b[0;32m<ipython-input-6-701067b0f91d>\u001b[0m in \u001b[0;36m<cell line: 20>\u001b[0;34m()\u001b[0m\n\u001b[1;32m     18\u001b[0m \u001b[0;34m\u001b[0m\u001b[0m\n\u001b[1;32m     19\u001b[0m \u001b[0;31m# Create a DataFrame with both datasets\u001b[0m\u001b[0;34m\u001b[0m\u001b[0;34m\u001b[0m\u001b[0m\n\u001b[0;32m---> 20\u001b[0;31m \u001b[0mdata\u001b[0m \u001b[0;34m=\u001b[0m \u001b[0mpd\u001b[0m\u001b[0;34m.\u001b[0m\u001b[0mDataFrame\u001b[0m\u001b[0;34m(\u001b[0m\u001b[0;34m{\u001b[0m\u001b[0;34m'aapl'\u001b[0m\u001b[0;34m:\u001b[0m \u001b[0maapl_data\u001b[0m\u001b[0;34m[\u001b[0m\u001b[0;34m'Adj Close'\u001b[0m\u001b[0;34m]\u001b[0m\u001b[0;34m,\u001b[0m \u001b[0;34m'cpi'\u001b[0m\u001b[0;34m:\u001b[0m \u001b[0mcpi_data\u001b[0m\u001b[0;34m}\u001b[0m\u001b[0;34m)\u001b[0m\u001b[0;34m\u001b[0m\u001b[0;34m\u001b[0m\u001b[0m\n\u001b[0m\u001b[1;32m     21\u001b[0m \u001b[0;34m\u001b[0m\u001b[0m\n\u001b[1;32m     22\u001b[0m \u001b[0;31m# Ensure that both datasets have the same timeframe\u001b[0m\u001b[0;34m\u001b[0m\u001b[0;34m\u001b[0m\u001b[0m\n",
            "\u001b[0;32m/usr/local/lib/python3.10/dist-packages/pandas/core/frame.py\u001b[0m in \u001b[0;36m__init__\u001b[0;34m(self, data, index, columns, dtype, copy)\u001b[0m\n\u001b[1;32m    776\u001b[0m         \u001b[0;32melif\u001b[0m \u001b[0misinstance\u001b[0m\u001b[0;34m(\u001b[0m\u001b[0mdata\u001b[0m\u001b[0;34m,\u001b[0m \u001b[0mdict\u001b[0m\u001b[0;34m)\u001b[0m\u001b[0;34m:\u001b[0m\u001b[0;34m\u001b[0m\u001b[0;34m\u001b[0m\u001b[0m\n\u001b[1;32m    777\u001b[0m             \u001b[0;31m# GH#38939 de facto copy defaults to False only in non-dict cases\u001b[0m\u001b[0;34m\u001b[0m\u001b[0;34m\u001b[0m\u001b[0m\n\u001b[0;32m--> 778\u001b[0;31m             \u001b[0mmgr\u001b[0m \u001b[0;34m=\u001b[0m \u001b[0mdict_to_mgr\u001b[0m\u001b[0;34m(\u001b[0m\u001b[0mdata\u001b[0m\u001b[0;34m,\u001b[0m \u001b[0mindex\u001b[0m\u001b[0;34m,\u001b[0m \u001b[0mcolumns\u001b[0m\u001b[0;34m,\u001b[0m \u001b[0mdtype\u001b[0m\u001b[0;34m=\u001b[0m\u001b[0mdtype\u001b[0m\u001b[0;34m,\u001b[0m \u001b[0mcopy\u001b[0m\u001b[0;34m=\u001b[0m\u001b[0mcopy\u001b[0m\u001b[0;34m,\u001b[0m \u001b[0mtyp\u001b[0m\u001b[0;34m=\u001b[0m\u001b[0mmanager\u001b[0m\u001b[0;34m)\u001b[0m\u001b[0;34m\u001b[0m\u001b[0;34m\u001b[0m\u001b[0m\n\u001b[0m\u001b[1;32m    779\u001b[0m         \u001b[0;32melif\u001b[0m \u001b[0misinstance\u001b[0m\u001b[0;34m(\u001b[0m\u001b[0mdata\u001b[0m\u001b[0;34m,\u001b[0m \u001b[0mma\u001b[0m\u001b[0;34m.\u001b[0m\u001b[0mMaskedArray\u001b[0m\u001b[0;34m)\u001b[0m\u001b[0;34m:\u001b[0m\u001b[0;34m\u001b[0m\u001b[0;34m\u001b[0m\u001b[0m\n\u001b[1;32m    780\u001b[0m             \u001b[0;32mfrom\u001b[0m \u001b[0mnumpy\u001b[0m\u001b[0;34m.\u001b[0m\u001b[0mma\u001b[0m \u001b[0;32mimport\u001b[0m \u001b[0mmrecords\u001b[0m\u001b[0;34m\u001b[0m\u001b[0;34m\u001b[0m\u001b[0m\n",
            "\u001b[0;32m/usr/local/lib/python3.10/dist-packages/pandas/core/internals/construction.py\u001b[0m in \u001b[0;36mdict_to_mgr\u001b[0;34m(data, index, columns, dtype, typ, copy)\u001b[0m\n\u001b[1;32m    501\u001b[0m             \u001b[0marrays\u001b[0m \u001b[0;34m=\u001b[0m \u001b[0;34m[\u001b[0m\u001b[0mx\u001b[0m\u001b[0;34m.\u001b[0m\u001b[0mcopy\u001b[0m\u001b[0;34m(\u001b[0m\u001b[0;34m)\u001b[0m \u001b[0;32mif\u001b[0m \u001b[0mhasattr\u001b[0m\u001b[0;34m(\u001b[0m\u001b[0mx\u001b[0m\u001b[0;34m,\u001b[0m \u001b[0;34m\"dtype\"\u001b[0m\u001b[0;34m)\u001b[0m \u001b[0;32melse\u001b[0m \u001b[0mx\u001b[0m \u001b[0;32mfor\u001b[0m \u001b[0mx\u001b[0m \u001b[0;32min\u001b[0m \u001b[0marrays\u001b[0m\u001b[0;34m]\u001b[0m\u001b[0;34m\u001b[0m\u001b[0;34m\u001b[0m\u001b[0m\n\u001b[1;32m    502\u001b[0m \u001b[0;34m\u001b[0m\u001b[0m\n\u001b[0;32m--> 503\u001b[0;31m     \u001b[0;32mreturn\u001b[0m \u001b[0marrays_to_mgr\u001b[0m\u001b[0;34m(\u001b[0m\u001b[0marrays\u001b[0m\u001b[0;34m,\u001b[0m \u001b[0mcolumns\u001b[0m\u001b[0;34m,\u001b[0m \u001b[0mindex\u001b[0m\u001b[0;34m,\u001b[0m \u001b[0mdtype\u001b[0m\u001b[0;34m=\u001b[0m\u001b[0mdtype\u001b[0m\u001b[0;34m,\u001b[0m \u001b[0mtyp\u001b[0m\u001b[0;34m=\u001b[0m\u001b[0mtyp\u001b[0m\u001b[0;34m,\u001b[0m \u001b[0mconsolidate\u001b[0m\u001b[0;34m=\u001b[0m\u001b[0mcopy\u001b[0m\u001b[0;34m)\u001b[0m\u001b[0;34m\u001b[0m\u001b[0;34m\u001b[0m\u001b[0m\n\u001b[0m\u001b[1;32m    504\u001b[0m \u001b[0;34m\u001b[0m\u001b[0m\n\u001b[1;32m    505\u001b[0m \u001b[0;34m\u001b[0m\u001b[0m\n",
            "\u001b[0;32m/usr/local/lib/python3.10/dist-packages/pandas/core/internals/construction.py\u001b[0m in \u001b[0;36marrays_to_mgr\u001b[0;34m(arrays, columns, index, dtype, verify_integrity, typ, consolidate)\u001b[0m\n\u001b[1;32m    117\u001b[0m \u001b[0;34m\u001b[0m\u001b[0m\n\u001b[1;32m    118\u001b[0m         \u001b[0;31m# don't force copy because getting jammed in an ndarray anyway\u001b[0m\u001b[0;34m\u001b[0m\u001b[0;34m\u001b[0m\u001b[0m\n\u001b[0;32m--> 119\u001b[0;31m         \u001b[0marrays\u001b[0m\u001b[0;34m,\u001b[0m \u001b[0mrefs\u001b[0m \u001b[0;34m=\u001b[0m \u001b[0m_homogenize\u001b[0m\u001b[0;34m(\u001b[0m\u001b[0marrays\u001b[0m\u001b[0;34m,\u001b[0m \u001b[0mindex\u001b[0m\u001b[0;34m,\u001b[0m \u001b[0mdtype\u001b[0m\u001b[0;34m)\u001b[0m\u001b[0;34m\u001b[0m\u001b[0;34m\u001b[0m\u001b[0m\n\u001b[0m\u001b[1;32m    120\u001b[0m         \u001b[0;31m# _homogenize ensures\u001b[0m\u001b[0;34m\u001b[0m\u001b[0;34m\u001b[0m\u001b[0m\n\u001b[1;32m    121\u001b[0m         \u001b[0;31m#  - all(len(x) == len(index) for x in arrays)\u001b[0m\u001b[0;34m\u001b[0m\u001b[0;34m\u001b[0m\u001b[0m\n",
            "\u001b[0;32m/usr/local/lib/python3.10/dist-packages/pandas/core/internals/construction.py\u001b[0m in \u001b[0;36m_homogenize\u001b[0;34m(data, index, dtype)\u001b[0m\n\u001b[1;32m    627\u001b[0m                 \u001b[0mval\u001b[0m \u001b[0;34m=\u001b[0m \u001b[0mlib\u001b[0m\u001b[0;34m.\u001b[0m\u001b[0mfast_multiget\u001b[0m\u001b[0;34m(\u001b[0m\u001b[0mval\u001b[0m\u001b[0;34m,\u001b[0m \u001b[0moindex\u001b[0m\u001b[0;34m.\u001b[0m\u001b[0m_values\u001b[0m\u001b[0;34m,\u001b[0m \u001b[0mdefault\u001b[0m\u001b[0;34m=\u001b[0m\u001b[0mnp\u001b[0m\u001b[0;34m.\u001b[0m\u001b[0mnan\u001b[0m\u001b[0;34m)\u001b[0m\u001b[0;34m\u001b[0m\u001b[0;34m\u001b[0m\u001b[0m\n\u001b[1;32m    628\u001b[0m \u001b[0;34m\u001b[0m\u001b[0m\n\u001b[0;32m--> 629\u001b[0;31m             \u001b[0mval\u001b[0m \u001b[0;34m=\u001b[0m \u001b[0msanitize_array\u001b[0m\u001b[0;34m(\u001b[0m\u001b[0mval\u001b[0m\u001b[0;34m,\u001b[0m \u001b[0mindex\u001b[0m\u001b[0;34m,\u001b[0m \u001b[0mdtype\u001b[0m\u001b[0;34m=\u001b[0m\u001b[0mdtype\u001b[0m\u001b[0;34m,\u001b[0m \u001b[0mcopy\u001b[0m\u001b[0;34m=\u001b[0m\u001b[0;32mFalse\u001b[0m\u001b[0;34m)\u001b[0m\u001b[0;34m\u001b[0m\u001b[0;34m\u001b[0m\u001b[0m\n\u001b[0m\u001b[1;32m    630\u001b[0m             \u001b[0mcom\u001b[0m\u001b[0;34m.\u001b[0m\u001b[0mrequire_length_match\u001b[0m\u001b[0;34m(\u001b[0m\u001b[0mval\u001b[0m\u001b[0;34m,\u001b[0m \u001b[0mindex\u001b[0m\u001b[0;34m)\u001b[0m\u001b[0;34m\u001b[0m\u001b[0;34m\u001b[0m\u001b[0m\n\u001b[1;32m    631\u001b[0m             \u001b[0mrefs\u001b[0m\u001b[0;34m.\u001b[0m\u001b[0mappend\u001b[0m\u001b[0;34m(\u001b[0m\u001b[0;32mNone\u001b[0m\u001b[0;34m)\u001b[0m\u001b[0;34m\u001b[0m\u001b[0;34m\u001b[0m\u001b[0m\n",
            "\u001b[0;32m/usr/local/lib/python3.10/dist-packages/pandas/core/construction.py\u001b[0m in \u001b[0;36msanitize_array\u001b[0;34m(data, index, dtype, copy, allow_2d)\u001b[0m\n\u001b[1;32m    631\u001b[0m         \u001b[0;32melse\u001b[0m\u001b[0;34m:\u001b[0m\u001b[0;34m\u001b[0m\u001b[0;34m\u001b[0m\u001b[0m\n\u001b[1;32m    632\u001b[0m             \u001b[0mdata\u001b[0m \u001b[0;34m=\u001b[0m \u001b[0mnp\u001b[0m\u001b[0;34m.\u001b[0m\u001b[0marray\u001b[0m\u001b[0;34m(\u001b[0m\u001b[0mdata\u001b[0m\u001b[0;34m,\u001b[0m \u001b[0mcopy\u001b[0m\u001b[0;34m=\u001b[0m\u001b[0mcopy\u001b[0m\u001b[0;34m)\u001b[0m\u001b[0;34m\u001b[0m\u001b[0;34m\u001b[0m\u001b[0m\n\u001b[0;32m--> 633\u001b[0;31m         return sanitize_array(\n\u001b[0m\u001b[1;32m    634\u001b[0m             \u001b[0mdata\u001b[0m\u001b[0;34m,\u001b[0m\u001b[0;34m\u001b[0m\u001b[0;34m\u001b[0m\u001b[0m\n\u001b[1;32m    635\u001b[0m             \u001b[0mindex\u001b[0m\u001b[0;34m=\u001b[0m\u001b[0mindex\u001b[0m\u001b[0;34m,\u001b[0m\u001b[0;34m\u001b[0m\u001b[0;34m\u001b[0m\u001b[0m\n",
            "\u001b[0;32m/usr/local/lib/python3.10/dist-packages/pandas/core/construction.py\u001b[0m in \u001b[0;36msanitize_array\u001b[0;34m(data, index, dtype, copy, allow_2d)\u001b[0m\n\u001b[1;32m    657\u001b[0m                 \u001b[0msubarr\u001b[0m \u001b[0;34m=\u001b[0m \u001b[0mmaybe_infer_to_datetimelike\u001b[0m\u001b[0;34m(\u001b[0m\u001b[0msubarr\u001b[0m\u001b[0;34m)\u001b[0m\u001b[0;34m\u001b[0m\u001b[0;34m\u001b[0m\u001b[0m\n\u001b[1;32m    658\u001b[0m \u001b[0;34m\u001b[0m\u001b[0m\n\u001b[0;32m--> 659\u001b[0;31m     \u001b[0msubarr\u001b[0m \u001b[0;34m=\u001b[0m \u001b[0m_sanitize_ndim\u001b[0m\u001b[0;34m(\u001b[0m\u001b[0msubarr\u001b[0m\u001b[0;34m,\u001b[0m \u001b[0mdata\u001b[0m\u001b[0;34m,\u001b[0m \u001b[0mdtype\u001b[0m\u001b[0;34m,\u001b[0m \u001b[0mindex\u001b[0m\u001b[0;34m,\u001b[0m \u001b[0mallow_2d\u001b[0m\u001b[0;34m=\u001b[0m\u001b[0mallow_2d\u001b[0m\u001b[0;34m)\u001b[0m\u001b[0;34m\u001b[0m\u001b[0;34m\u001b[0m\u001b[0m\n\u001b[0m\u001b[1;32m    660\u001b[0m \u001b[0;34m\u001b[0m\u001b[0m\n\u001b[1;32m    661\u001b[0m     \u001b[0;32mif\u001b[0m \u001b[0misinstance\u001b[0m\u001b[0;34m(\u001b[0m\u001b[0msubarr\u001b[0m\u001b[0;34m,\u001b[0m \u001b[0mnp\u001b[0m\u001b[0;34m.\u001b[0m\u001b[0mndarray\u001b[0m\u001b[0;34m)\u001b[0m\u001b[0;34m:\u001b[0m\u001b[0;34m\u001b[0m\u001b[0;34m\u001b[0m\u001b[0m\n",
            "\u001b[0;32m/usr/local/lib/python3.10/dist-packages/pandas/core/construction.py\u001b[0m in \u001b[0;36m_sanitize_ndim\u001b[0;34m(result, data, dtype, index, allow_2d)\u001b[0m\n\u001b[1;32m    716\u001b[0m             \u001b[0;32mif\u001b[0m \u001b[0mallow_2d\u001b[0m\u001b[0;34m:\u001b[0m\u001b[0;34m\u001b[0m\u001b[0;34m\u001b[0m\u001b[0m\n\u001b[1;32m    717\u001b[0m                 \u001b[0;32mreturn\u001b[0m \u001b[0mresult\u001b[0m\u001b[0;34m\u001b[0m\u001b[0;34m\u001b[0m\u001b[0m\n\u001b[0;32m--> 718\u001b[0;31m             raise ValueError(\n\u001b[0m\u001b[1;32m    719\u001b[0m                 \u001b[0;34mf\"Data must be 1-dimensional, got ndarray of shape {data.shape} instead\"\u001b[0m\u001b[0;34m\u001b[0m\u001b[0;34m\u001b[0m\u001b[0m\n\u001b[1;32m    720\u001b[0m             )\n",
            "\u001b[0;31mValueError\u001b[0m: Data must be 1-dimensional, got ndarray of shape (205, 1) instead"
          ]
        }
      ]
    }
  ]
}